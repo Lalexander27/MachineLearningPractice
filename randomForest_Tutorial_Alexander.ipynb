{
  "nbformat": 4,
  "nbformat_minor": 0,
  "metadata": {
    "colab": {
      "provenance": [],
      "collapsed_sections": []
    },
    "kernelspec": {
      "name": "ir",
      "display_name": "R"
    },
    "language_info": {
      "name": "R"
    }
  },
  "cells": [
    {
      "cell_type": "markdown",
      "source": [
        "### Author: Louie Alexander \n",
        "### Title: Tutorial of `randomForest` R package\n",
        "### Updated: Nov 14, 2022"
      ],
      "metadata": {
        "id": "VY95Wdqz0b7V"
      }
    },
    {
      "cell_type": "markdown",
      "source": [
        "# Tutorial of `randomForest` R package\n",
        "\n",
        "This tutorial serves as an introduction to the `randomForest` R package and its applications for bioinformatics.  I demonstrate how to use random forest on a heart disease dataset to classify severity of disease, and document the predictors that have the greatest impact in the model.\n",
        "\n",
        "The dataset is pulled from the Cleveland heart disease dataset, archived by the University of California Irvine (http://archive.ics.uci.edu/ml/datasets/Heart+Disease.)"
      ],
      "metadata": {
        "id": "yMpd04rR0emm"
      }
    },
    {
      "cell_type": "code",
      "execution_count": 3,
      "metadata": {
        "colab": {
          "base_uri": "https://localhost:8080/",
          "height": 531
        },
        "id": "wxLhu4dR0YLi",
        "outputId": "437636bd-2ba2-42a7-cd4c-39bcce319ae9"
      },
      "outputs": [
        {
          "output_type": "display_data",
          "data": {
            "text/html": [
              "<dl>\n",
              "\t<dt>$platform</dt>\n",
              "\t\t<dd>'x86_64-pc-linux-gnu'</dd>\n",
              "\t<dt>$arch</dt>\n",
              "\t\t<dd>'x86_64'</dd>\n",
              "\t<dt>$os</dt>\n",
              "\t\t<dd>'linux-gnu'</dd>\n",
              "\t<dt>$system</dt>\n",
              "\t\t<dd>'x86_64, linux-gnu'</dd>\n",
              "\t<dt>$status</dt>\n",
              "\t\t<dd>''</dd>\n",
              "\t<dt>$major</dt>\n",
              "\t\t<dd>'4'</dd>\n",
              "\t<dt>$minor</dt>\n",
              "\t\t<dd>'2.2'</dd>\n",
              "\t<dt>$year</dt>\n",
              "\t\t<dd>'2022'</dd>\n",
              "\t<dt>$month</dt>\n",
              "\t\t<dd>'10'</dd>\n",
              "\t<dt>$day</dt>\n",
              "\t\t<dd>'31'</dd>\n",
              "\t<dt>$`svn rev`</dt>\n",
              "\t\t<dd>'83211'</dd>\n",
              "\t<dt>$language</dt>\n",
              "\t\t<dd>'R'</dd>\n",
              "\t<dt>$version.string</dt>\n",
              "\t\t<dd>'R version 4.2.2 (2022-10-31)'</dd>\n",
              "\t<dt>$nickname</dt>\n",
              "\t\t<dd>'Innocent and Trusting'</dd>\n",
              "</dl>\n"
            ],
            "text/markdown": "$platform\n:   'x86_64-pc-linux-gnu'\n$arch\n:   'x86_64'\n$os\n:   'linux-gnu'\n$system\n:   'x86_64, linux-gnu'\n$status\n:   ''\n$major\n:   '4'\n$minor\n:   '2.2'\n$year\n:   '2022'\n$month\n:   '10'\n$day\n:   '31'\n$`svn rev`\n:   '83211'\n$language\n:   'R'\n$version.string\n:   'R version 4.2.2 (2022-10-31)'\n$nickname\n:   'Innocent and Trusting'\n\n\n",
            "text/latex": "\\begin{description}\n\\item[\\$platform] 'x86\\_64-pc-linux-gnu'\n\\item[\\$arch] 'x86\\_64'\n\\item[\\$os] 'linux-gnu'\n\\item[\\$system] 'x86\\_64, linux-gnu'\n\\item[\\$status] ''\n\\item[\\$major] '4'\n\\item[\\$minor] '2.2'\n\\item[\\$year] '2022'\n\\item[\\$month] '10'\n\\item[\\$day] '31'\n\\item[\\$`svn rev`] '83211'\n\\item[\\$language] 'R'\n\\item[\\$version.string] 'R version 4.2.2 (2022-10-31)'\n\\item[\\$nickname] 'Innocent and Trusting'\n\\end{description}\n",
            "text/plain": [
              "$platform\n",
              "[1] \"x86_64-pc-linux-gnu\"\n",
              "\n",
              "$arch\n",
              "[1] \"x86_64\"\n",
              "\n",
              "$os\n",
              "[1] \"linux-gnu\"\n",
              "\n",
              "$system\n",
              "[1] \"x86_64, linux-gnu\"\n",
              "\n",
              "$status\n",
              "[1] \"\"\n",
              "\n",
              "$major\n",
              "[1] \"4\"\n",
              "\n",
              "$minor\n",
              "[1] \"2.2\"\n",
              "\n",
              "$year\n",
              "[1] \"2022\"\n",
              "\n",
              "$month\n",
              "[1] \"10\"\n",
              "\n",
              "$day\n",
              "[1] \"31\"\n",
              "\n",
              "$`svn rev`\n",
              "[1] \"83211\"\n",
              "\n",
              "$language\n",
              "[1] \"R\"\n",
              "\n",
              "$version.string\n",
              "[1] \"R version 4.2.2 (2022-10-31)\"\n",
              "\n",
              "$nickname\n",
              "[1] \"Innocent and Trusting\"\n"
            ]
          },
          "metadata": {}
        }
      ],
      "source": [
        "#Install randomForest R package\n",
        "R.Version() #Version 4.2.2 as of Nov 14, 2022 \n",
        "\n",
        "if (!require(randomForest)) { install.packages(\"randomForest\")} #V 4.7-1.1\n",
        "if (!require(tidyverse)) { install.packages(\"tidyverse\")} #V 1.3.1\n",
        "\n",
        "library(randomForest)\n",
        "library(tidyverse)"
      ]
    },
    {
      "cell_type": "code",
      "source": [
        "#Grab dataset from the UCI archive\n",
        "heartDiseaseData <- read.table(\"http://archive.ics.uci.edu/ml/machine-learning-databases/heart-disease/processed.cleveland.data\", sep = \",\", header = FALSE)\n",
        "\n",
        "#Add variable names to features\n",
        "names(heartDiseaseData) <- c(\"Age\", \"Sex\", \"ChestPain\",\"restBP\", \"serCholesterol\", \"restBloodSugar\", \"restECG\", \"maxHeartRate\", \"ExerciseAngina\", \"oldPeak\", \"slope\", \"Fluoroscopy\", \"thal\", \"HeartDiseaseClass\")\n",
        "\n",
        "#Show dataset\n",
        "head(heartDiseaseData) \n",
        "dim(heartDiseaseData) #303 samples x 13 features and 1 label"
      ],
      "metadata": {
        "colab": {
          "base_uri": "https://localhost:8080/",
          "height": 304
        },
        "id": "vuTmKeQy051D",
        "outputId": "4ad8302c-418b-42e5-8dba-a2c9af4f2dbd"
      },
      "execution_count": 4,
      "outputs": [
        {
          "output_type": "display_data",
          "data": {
            "text/html": [
              "<table class=\"dataframe\">\n",
              "<caption>A data.frame: 6 × 14</caption>\n",
              "<thead>\n",
              "\t<tr><th></th><th scope=col>Age</th><th scope=col>Sex</th><th scope=col>ChestPain</th><th scope=col>restBP</th><th scope=col>serCholesterol</th><th scope=col>restBloodSugar</th><th scope=col>restECG</th><th scope=col>maxHeartRate</th><th scope=col>ExerciseAngina</th><th scope=col>oldPeak</th><th scope=col>slope</th><th scope=col>Fluoroscopy</th><th scope=col>thal</th><th scope=col>HeartDiseaseClass</th></tr>\n",
              "\t<tr><th></th><th scope=col>&lt;dbl&gt;</th><th scope=col>&lt;dbl&gt;</th><th scope=col>&lt;dbl&gt;</th><th scope=col>&lt;dbl&gt;</th><th scope=col>&lt;dbl&gt;</th><th scope=col>&lt;dbl&gt;</th><th scope=col>&lt;dbl&gt;</th><th scope=col>&lt;dbl&gt;</th><th scope=col>&lt;dbl&gt;</th><th scope=col>&lt;dbl&gt;</th><th scope=col>&lt;dbl&gt;</th><th scope=col>&lt;chr&gt;</th><th scope=col>&lt;chr&gt;</th><th scope=col>&lt;int&gt;</th></tr>\n",
              "</thead>\n",
              "<tbody>\n",
              "\t<tr><th scope=row>1</th><td>63</td><td>1</td><td>1</td><td>145</td><td>233</td><td>1</td><td>2</td><td>150</td><td>0</td><td>2.3</td><td>3</td><td>0.0</td><td>6.0</td><td>0</td></tr>\n",
              "\t<tr><th scope=row>2</th><td>67</td><td>1</td><td>4</td><td>160</td><td>286</td><td>0</td><td>2</td><td>108</td><td>1</td><td>1.5</td><td>2</td><td>3.0</td><td>3.0</td><td>2</td></tr>\n",
              "\t<tr><th scope=row>3</th><td>67</td><td>1</td><td>4</td><td>120</td><td>229</td><td>0</td><td>2</td><td>129</td><td>1</td><td>2.6</td><td>2</td><td>2.0</td><td>7.0</td><td>1</td></tr>\n",
              "\t<tr><th scope=row>4</th><td>37</td><td>1</td><td>3</td><td>130</td><td>250</td><td>0</td><td>0</td><td>187</td><td>0</td><td>3.5</td><td>3</td><td>0.0</td><td>3.0</td><td>0</td></tr>\n",
              "\t<tr><th scope=row>5</th><td>41</td><td>0</td><td>2</td><td>130</td><td>204</td><td>0</td><td>2</td><td>172</td><td>0</td><td>1.4</td><td>1</td><td>0.0</td><td>3.0</td><td>0</td></tr>\n",
              "\t<tr><th scope=row>6</th><td>56</td><td>1</td><td>2</td><td>120</td><td>236</td><td>0</td><td>0</td><td>178</td><td>0</td><td>0.8</td><td>1</td><td>0.0</td><td>3.0</td><td>0</td></tr>\n",
              "</tbody>\n",
              "</table>\n"
            ],
            "text/markdown": "\nA data.frame: 6 × 14\n\n| <!--/--> | Age &lt;dbl&gt; | Sex &lt;dbl&gt; | ChestPain &lt;dbl&gt; | restBP &lt;dbl&gt; | serCholesterol &lt;dbl&gt; | restBloodSugar &lt;dbl&gt; | restECG &lt;dbl&gt; | maxHeartRate &lt;dbl&gt; | ExerciseAngina &lt;dbl&gt; | oldPeak &lt;dbl&gt; | slope &lt;dbl&gt; | Fluoroscopy &lt;chr&gt; | thal &lt;chr&gt; | HeartDiseaseClass &lt;int&gt; |\n|---|---|---|---|---|---|---|---|---|---|---|---|---|---|---|\n| 1 | 63 | 1 | 1 | 145 | 233 | 1 | 2 | 150 | 0 | 2.3 | 3 | 0.0 | 6.0 | 0 |\n| 2 | 67 | 1 | 4 | 160 | 286 | 0 | 2 | 108 | 1 | 1.5 | 2 | 3.0 | 3.0 | 2 |\n| 3 | 67 | 1 | 4 | 120 | 229 | 0 | 2 | 129 | 1 | 2.6 | 2 | 2.0 | 7.0 | 1 |\n| 4 | 37 | 1 | 3 | 130 | 250 | 0 | 0 | 187 | 0 | 3.5 | 3 | 0.0 | 3.0 | 0 |\n| 5 | 41 | 0 | 2 | 130 | 204 | 0 | 2 | 172 | 0 | 1.4 | 1 | 0.0 | 3.0 | 0 |\n| 6 | 56 | 1 | 2 | 120 | 236 | 0 | 0 | 178 | 0 | 0.8 | 1 | 0.0 | 3.0 | 0 |\n\n",
            "text/latex": "A data.frame: 6 × 14\n\\begin{tabular}{r|llllllllllllll}\n  & Age & Sex & ChestPain & restBP & serCholesterol & restBloodSugar & restECG & maxHeartRate & ExerciseAngina & oldPeak & slope & Fluoroscopy & thal & HeartDiseaseClass\\\\\n  & <dbl> & <dbl> & <dbl> & <dbl> & <dbl> & <dbl> & <dbl> & <dbl> & <dbl> & <dbl> & <dbl> & <chr> & <chr> & <int>\\\\\n\\hline\n\t1 & 63 & 1 & 1 & 145 & 233 & 1 & 2 & 150 & 0 & 2.3 & 3 & 0.0 & 6.0 & 0\\\\\n\t2 & 67 & 1 & 4 & 160 & 286 & 0 & 2 & 108 & 1 & 1.5 & 2 & 3.0 & 3.0 & 2\\\\\n\t3 & 67 & 1 & 4 & 120 & 229 & 0 & 2 & 129 & 1 & 2.6 & 2 & 2.0 & 7.0 & 1\\\\\n\t4 & 37 & 1 & 3 & 130 & 250 & 0 & 0 & 187 & 0 & 3.5 & 3 & 0.0 & 3.0 & 0\\\\\n\t5 & 41 & 0 & 2 & 130 & 204 & 0 & 2 & 172 & 0 & 1.4 & 1 & 0.0 & 3.0 & 0\\\\\n\t6 & 56 & 1 & 2 & 120 & 236 & 0 & 0 & 178 & 0 & 0.8 & 1 & 0.0 & 3.0 & 0\\\\\n\\end{tabular}\n",
            "text/plain": [
              "  Age Sex ChestPain restBP serCholesterol restBloodSugar restECG maxHeartRate\n",
              "1 63  1   1         145    233            1              2       150         \n",
              "2 67  1   4         160    286            0              2       108         \n",
              "3 67  1   4         120    229            0              2       129         \n",
              "4 37  1   3         130    250            0              0       187         \n",
              "5 41  0   2         130    204            0              2       172         \n",
              "6 56  1   2         120    236            0              0       178         \n",
              "  ExerciseAngina oldPeak slope Fluoroscopy thal HeartDiseaseClass\n",
              "1 0              2.3     3     0.0         6.0  0                \n",
              "2 1              1.5     2     3.0         3.0  2                \n",
              "3 1              2.6     2     2.0         7.0  1                \n",
              "4 0              3.5     3     0.0         3.0  0                \n",
              "5 0              1.4     1     0.0         3.0  0                \n",
              "6 0              0.8     1     0.0         3.0  0                "
            ]
          },
          "metadata": {}
        },
        {
          "output_type": "display_data",
          "data": {
            "text/html": [
              "<style>\n",
              ".list-inline {list-style: none; margin:0; padding: 0}\n",
              ".list-inline>li {display: inline-block}\n",
              ".list-inline>li:not(:last-child)::after {content: \"\\00b7\"; padding: 0 .5ex}\n",
              "</style>\n",
              "<ol class=list-inline><li>303</li><li>14</li></ol>\n"
            ],
            "text/markdown": "1. 303\n2. 14\n\n\n",
            "text/latex": "\\begin{enumerate*}\n\\item 303\n\\item 14\n\\end{enumerate*}\n",
            "text/plain": [
              "[1] 303  14"
            ]
          },
          "metadata": {}
        }
      ]
    },
    {
      "cell_type": "markdown",
      "source": [
        "Notice that Fluoroscopy and thal are classified as \"character\" variables (strings) since they have missing values represented by \"?\"\n",
        "We will address this below by changing these to NA which is the \"missing value\" in R.  \n",
        "The classification of heart disease was diagnosed by blood vessel narrowing and encoded as follows:\n",
        "\n",
        "0: no sign of narrowing\n",
        "\n",
        "1 to 4: significant narrowing (heart disease)\n",
        "\n",
        "For simplicity, let's make this classification binary: 0 = no heart disease; 1 = heart disease"
      ],
      "metadata": {
        "id": "MSIAfcbNHO3R"
      }
    },
    {
      "cell_type": "code",
      "source": [
        "#Make HeartDiseaseClass binary: 0 == no heart disease; 1 == heart disease (diagnosed by blood vessel narrowing)\n",
        "#This ifelse statement checks the value in HeartDiseaseClass for every sample.  For samples classified as 2, 3, or 4, it changes the classification to 1.  It leaves all other classfications the same\n",
        "heartDiseaseData <- heartDiseaseData %>% mutate(HeartDiseaseClass = ifelse(HeartDiseaseClass > 0, 1, HeartDiseaseClass)) \n",
        "\n",
        "#Remove samples with missing data in Fluoroscopy and thal\n",
        "heartDiseaseData <- heartDiseaseData %>% filter(Fluoroscopy != \"?\" & thal != \"?\") \n",
        "dim(heartDiseaseData)\n",
        "\n",
        "#Now make these numeric\n",
        "heartDiseaseData$Fluoroscopy <- as.numeric(heartDiseaseData$Fluoroscopy)\n",
        "heartDiseaseData$thal <- as.numeric(heartDiseaseData$thal)\n",
        "\n",
        "#Ensure label is a factor so that randomForest treats it as the outome\n",
        "heartDiseaseData$HeartDiseaseClass <- as.factor(heartDiseaseData$HeartDiseaseClass)"
      ],
      "metadata": {
        "colab": {
          "base_uri": "https://localhost:8080/",
          "height": 34
        },
        "id": "8C8wwodrG8ib",
        "outputId": "5680141d-8e36-473a-86fc-7da8ca8cdc5a"
      },
      "execution_count": 5,
      "outputs": [
        {
          "output_type": "display_data",
          "data": {
            "text/html": [
              "<style>\n",
              ".list-inline {list-style: none; margin:0; padding: 0}\n",
              ".list-inline>li {display: inline-block}\n",
              ".list-inline>li:not(:last-child)::after {content: \"\\00b7\"; padding: 0 .5ex}\n",
              "</style>\n",
              "<ol class=list-inline><li>297</li><li>14</li></ol>\n"
            ],
            "text/markdown": "1. 297\n2. 14\n\n\n",
            "text/latex": "\\begin{enumerate*}\n\\item 297\n\\item 14\n\\end{enumerate*}\n",
            "text/plain": [
              "[1] 297  14"
            ]
          },
          "metadata": {}
        }
      ]
    },
    {
      "cell_type": "markdown",
      "source": [
        "The `randomForest` function accepts the dataset of features and label.  Since random forest does not perform with missing data, the `na.omit` argument omits missing data.  The formula `HeartDiseaseClass ~.` uses all features as predictors of the label variable (\"HeartDiseaseClass\").  `ntree` is the number of trees generated and compiled.  A higher number of iterations help the model better determine the relationship between the predictors and label.  \n",
        "`importance = TRUE` is an additional argument that reports metrics quantifying the relative impact of each predictor on the algorithm (Mean Decrease Accuracy and Mean Decrease Gini.)  These are explained more below."
      ],
      "metadata": {
        "id": "8dFxF_VbNpZW"
      }
    },
    {
      "cell_type": "code",
      "source": [
        "#set Random Seed\n",
        "set.seed(425)\n",
        "\n",
        "#Evaluate model using full dataset\n",
        "classHD <- randomForest(HeartDiseaseClass ~., importance = TRUE, na.action = na.omit, data=heartDiseaseData, mtry=3, ntree=2000)\n",
        "falsePos = round(classHD$confusion[1,3], 4) * 100\n",
        "falseNeg = round(classHD$confusion[2,3], 4) * 100\n",
        "\n",
        "#View summary below.  Note OOB error and mean decrease Gini\n",
        "print(classHD) \n",
        "paste0(cat(\"\\nFalse Positive Rate:\", falsePos, \"False Negative Rate:\", falseNeg))"
      ],
      "metadata": {
        "colab": {
          "base_uri": "https://localhost:8080/",
          "height": 260
        },
        "id": "IabGkIqn4Zfh",
        "outputId": "c0606778-ff4e-4713-d06b-bcff0b78ba30"
      },
      "execution_count": 6,
      "outputs": [
        {
          "output_type": "stream",
          "name": "stdout",
          "text": [
            "\n",
            "Call:\n",
            " randomForest(formula = HeartDiseaseClass ~ ., data = heartDiseaseData,      importance = TRUE, mtry = 3, ntree = 2000, na.action = na.omit) \n",
            "               Type of random forest: classification\n",
            "                     Number of trees: 2000\n",
            "No. of variables tried at each split: 3\n",
            "\n",
            "        OOB estimate of  error rate: 17.17%\n",
            "Confusion matrix:\n",
            "    0   1 class.error\n",
            "0 138  22   0.1375000\n",
            "1  29 108   0.2116788\n",
            "\n",
            "False Positive Rate: 13.75 False Negative Rate: 21.17"
          ]
        },
        {
          "output_type": "display_data",
          "data": {
            "text/html": [],
            "text/markdown": "",
            "text/latex": "",
            "text/plain": [
              "character(0)"
            ]
          },
          "metadata": {}
        }
      ]
    },
    {
      "cell_type": "markdown",
      "source": [
        "Since our classification task was binary, the confusion matrix above gives the false positive rate, false negative rate, and out-of-bag error rate.  \n",
        "\n",
        "Additionally, with random forest, we can report predictor variables that had the greatest impact on the model's accuracy and error.  These metrics are called Mean Decrease Accuracy (MDA) and Mean Decrease Gini (MDG,) representing accuracy and error respectively.  For each metric, a high value indicates the predictor has a high impact on accuracy or error.\n",
        "\n",
        "Random forest models represent the composite of many decisions trees that all try to classify samples using only some of the predictors.  MDA represents the average accuray lost in models that **don't** include the variable.  \n",
        "\n",
        "MDG is based off the Gini impurity metric.  In a single decision tree, Gini impurity is the proportion of records that were misclassified, and a low Gini metric represents low error.  For a random forest model, the Gini impurity is measured for each predictor across iterations of decision trees, and the Gini impurity (error) decreases.  Therefore, a large MDG means that trees including a given predictor had low error rates.   "
      ],
      "metadata": {
        "id": "GR27tWD6N38m"
      }
    },
    {
      "cell_type": "code",
      "source": [
        "print(importance(classHD))"
      ],
      "metadata": {
        "colab": {
          "base_uri": "https://localhost:8080/"
        },
        "id": "qCr9p5_6vw9_",
        "outputId": "976f7915-7583-4265-c484-5e41e527b6f5"
      },
      "execution_count": 7,
      "outputs": [
        {
          "output_type": "stream",
          "name": "stdout",
          "text": [
            "                        0         1 MeanDecreaseAccuracy MeanDecreaseGini\n",
            "Age            13.7612994 10.162260           17.2825065        12.796130\n",
            "Sex            21.4246205 10.322372           22.5222348         4.618993\n",
            "ChestPain      22.9717477 34.652687           38.4034638        17.266436\n",
            "restBP          2.8177107  1.820826            3.3907947        10.764889\n",
            "serCholesterol  2.9970132 -4.026612           -0.3373592        11.752417\n",
            "restBloodSugar  3.4447451 -3.583320            0.1001967         1.338129\n",
            "restECG        -0.2699883  2.309877            1.2816203         2.913114\n",
            "maxHeartRate   18.3877921 10.337904           19.9228918        17.187013\n",
            "ExerciseAngina  8.6927558 19.203384           19.5118367         7.477287\n",
            "oldPeak        18.3390415 22.765249           29.1137932        15.632901\n",
            "slope           5.0644434 16.559974           16.2714798         6.610688\n",
            "Fluoroscopy    42.4679856 38.277859           51.8910414        18.028204\n",
            "thal           37.4032130 34.331245           46.7593559        19.025231\n"
          ]
        }
      ]
    },
    {
      "cell_type": "markdown",
      "source": [
        "The largest MDA and MDG values were for the variables: `thal`, `Fluoroscopy`, and `ChestPain`.  This means they were the most helpful predictors for the model to increase its accuracy and reduce its error.  We can visualize and sort the MDA and MGA ina  variable importance plot using the `varImpPlot` function below. "
      ],
      "metadata": {
        "id": "P7QGjbxHxYXe"
      }
    },
    {
      "cell_type": "code",
      "source": [
        "varImpPlot(classHD, sort = TRUE)"
      ],
      "metadata": {
        "colab": {
          "base_uri": "https://localhost:8080/",
          "height": 437
        },
        "id": "yXdNEXzxuxD9",
        "outputId": "1d4d6401-b7ae-4bd0-b4e0-2f47d6ca63dd"
      },
      "execution_count": 8,
      "outputs": [
        {
          "output_type": "display_data",
          "data": {
            "text/plain": [
              "plot without title"
            ],
            "image/png": "[encoded data removed]"
          },
          "metadata": {
            "image/png": {
              "width": 420,
              "height": 420
            }
          }
        }
      ]
    },
    {
      "cell_type": "markdown",
      "source": [
        "Notably, `Fluoroscopy`, `thal`, and `ChestPain` had the highest MDA and MDG of the predictors.  The MDA of these predictors is pretty high compared to the MDG."
      ],
      "metadata": {
        "id": "2xHwGDthuwcn"
      }
    },
    {
      "cell_type": "code",
      "source": [
        "set.seed(425)\n",
        "\n",
        "#split into testing and training set and repeat.  Make sure to show important predictor variables\n",
        "ss = nrow(heartDiseaseData)\n",
        "\n",
        "trainN = ceiling(0.7 * ss) #70% of samples used to train\n",
        "trainSamples <- sample(ss, size = trainN) #these hold row numbers of samples\n",
        "\n",
        "Xtrain <- heartDiseaseData[trainSamples, ] #make training set (and keep label in)\n",
        "\n",
        "#The other 30% should be used for validation and test datasets\n",
        "validTestData <- heartDiseaseData[-trainSamples, ]\n",
        "\n",
        "ssValid = nrow(validTestData)\n",
        "validN = ceiling(0.15 * ss)\n",
        "\n",
        "validSamples <- sample(ssValid, size = validN)\n",
        "Xvalid <- validTestData[validSamples, ] \n",
        "yvalid <- Xvalid[, 14]\n",
        "Xvalid <- Xvalid[, -14]\n",
        "\n",
        "#Get test data set\n",
        "Xtest <- validTestData[-validSamples, ]\n",
        "ytest <- Xtest[, 14] #pull out label from testing data\n",
        "Xtest <- Xtest[, -14]"
      ],
      "metadata": {
        "id": "OM2iUSD-AwJU"
      },
      "execution_count": 9,
      "outputs": []
    },
    {
      "cell_type": "markdown",
      "source": [
        "Note that in the `randomForest` function, we need to choose values to use for the `mtry` and `ntrees` parameters.  We can determine 'optimal' values for these parameters by using a grid search function.  This function compares models made using different combinations of these parameters and reports the 'best' combination."
      ],
      "metadata": {
        "id": "2UmpBbSKRQ7c"
      }
    },
    {
      "cell_type": "code",
      "source": [
        "#Use tuneRF to get the best mtry parameter\n",
        "params <- tuneRF(x = Xvalid, y = yvalid, na.action = na.omit, ntreeTry = 2000, mtryStart = 3, improve = 0.1)\n",
        "summary(params)\n",
        "\n",
        "params2 <- tuneRF(x = Xvalid, y = yvalid, na.action = na.omit, ntreeTry = 5000, mtryStart = 3, improve = 0.1)\n",
        "summary(params2)\n",
        "\n",
        "params2 <- tuneRF(x = Xvalid, y = yvalid, na.action = na.omit, ntreeTry = 5000, mtryStart = 2, improve = 0.1)\n",
        "summary(params2)\n",
        "\n",
        "#mtry=1 tends to have lowest OOB error\n",
        "#mtry of 1 means that each node of the decision trees correspond to 1 feature.\n",
        "m = 1"
      ],
      "metadata": {
        "colab": {
          "base_uri": "https://localhost:8080/",
          "height": 1000
        },
        "id": "mwUsWw6nALej",
        "outputId": "8824fe7a-38e1-452d-b43b-96ff5d6f35b9"
      },
      "execution_count": 20,
      "outputs": [
        {
          "output_type": "stream",
          "name": "stdout",
          "text": [
            "mtry = 3  OOB error = 17.78% \n",
            "Searching left ...\n",
            "mtry = 2 \tOOB error = 17.78% \n",
            "0 0.1 \n",
            "Searching right ...\n",
            "mtry = 6 \tOOB error = 20% \n",
            "-0.125 0.1 \n"
          ]
        },
        {
          "output_type": "display_data",
          "data": {
            "text/plain": [
              "      mtry          OOBError     \n",
              " Min.   :2.000   Min.   :0.1778  \n",
              " 1st Qu.:2.500   1st Qu.:0.1778  \n",
              " Median :3.000   Median :0.1778  \n",
              " Mean   :3.667   Mean   :0.1852  \n",
              " 3rd Qu.:4.500   3rd Qu.:0.1889  \n",
              " Max.   :6.000   Max.   :0.2000  "
            ]
          },
          "metadata": {}
        },
        {
          "output_type": "stream",
          "name": "stdout",
          "text": [
            "mtry = 3  OOB error = 20% \n",
            "Searching left ...\n",
            "mtry = 2 \tOOB error = 20% \n",
            "0 0.1 \n",
            "Searching right ...\n",
            "mtry = 6 \tOOB error = 20% \n",
            "0 0.1 \n"
          ]
        },
        {
          "output_type": "display_data",
          "data": {
            "text/plain": [
              "plot without title"
            ],
            "image/png": "[encoded data removed]"
          },
          "metadata": {
            "image/png": {
              "width": 420,
              "height": 420
            }
          }
        },
        {
          "output_type": "display_data",
          "data": {
            "text/plain": [
              "      mtry          OOBError  \n",
              " Min.   :2.000   Min.   :0.2  \n",
              " 1st Qu.:2.500   1st Qu.:0.2  \n",
              " Median :3.000   Median :0.2  \n",
              " Mean   :3.667   Mean   :0.2  \n",
              " 3rd Qu.:4.500   3rd Qu.:0.2  \n",
              " Max.   :6.000   Max.   :0.2  "
            ]
          },
          "metadata": {}
        },
        {
          "output_type": "stream",
          "name": "stdout",
          "text": [
            "mtry = 2  OOB error = 20% \n",
            "Searching left ...\n",
            "mtry = 1 \tOOB error = 15.56% \n",
            "0.2222222 0.1 \n",
            "Searching right ...\n",
            "mtry = 4 \tOOB error = 20% \n",
            "-0.2857143 0.1 \n"
          ]
        },
        {
          "output_type": "display_data",
          "data": {
            "text/plain": [
              "plot without title"
            ],
            "image/png": "[encoded data removed]"
          },
          "metadata": {
            "image/png": {
              "width": 420,
              "height": 420
            }
          }
        },
        {
          "output_type": "display_data",
          "data": {
            "text/plain": [
              "      mtry          OOBError     \n",
              " Min.   :1.000   Min.   :0.1556  \n",
              " 1st Qu.:1.500   1st Qu.:0.1778  \n",
              " Median :2.000   Median :0.2000  \n",
              " Mean   :2.333   Mean   :0.1852  \n",
              " 3rd Qu.:3.000   3rd Qu.:0.2000  \n",
              " Max.   :4.000   Max.   :0.2000  "
            ]
          },
          "metadata": {}
        },
        {
          "output_type": "display_data",
          "data": {
            "text/plain": [
              "plot without title"
            ],
            "image/png": "[encoded data removed]"
          },
          "metadata": {
            "image/png": {
              "width": 420,
              "height": 420
            }
          }
        }
      ]
    },
    {
      "cell_type": "markdown",
      "source": [],
      "metadata": {
        "id": "vpPLXKmsAMHS"
      }
    },
    {
      "cell_type": "code",
      "source": [
        "set.seed(425)\n",
        "\n",
        "#Train model using training data\n",
        "trainHD <- randomForest(HeartDiseaseClass ~., importance = TRUE, na.action = na.omit, data=Xtrain, mtry = m, ntree=2000)\n",
        "print(trainHD)\n",
        "\n",
        "falsePos = round(trainHD$confusion[1,3], 4) * 100\n",
        "falseNeg = round(trainHD$confusion[2,3], 4) * 100\n",
        "paste0(cat(\"\\nFalse Positive Rate:\", falsePos, \"False Negative Rate:\", falseNeg))"
      ],
      "metadata": {
        "colab": {
          "base_uri": "https://localhost:8080/",
          "height": 260
        },
        "id": "83sVjmNZN94d",
        "outputId": "7cb9f8ad-e89b-4695-a256-a6ceb4795769"
      },
      "execution_count": 21,
      "outputs": [
        {
          "output_type": "stream",
          "name": "stdout",
          "text": [
            "\n",
            "Call:\n",
            " randomForest(formula = HeartDiseaseClass ~ ., data = Xtrain,      importance = TRUE, mtry = m, ntree = 2000, na.action = na.omit) \n",
            "               Type of random forest: classification\n",
            "                     Number of trees: 2000\n",
            "No. of variables tried at each split: 1\n",
            "\n",
            "        OOB estimate of  error rate: 17.31%\n",
            "Confusion matrix:\n",
            "   0  1 class.error\n",
            "0 96 13   0.1192661\n",
            "1 23 76   0.2323232\n",
            "\n",
            "False Positive Rate: 11.93 False Negative Rate: 23.23"
          ]
        },
        {
          "output_type": "display_data",
          "data": {
            "text/html": [],
            "text/markdown": "",
            "text/latex": "",
            "text/plain": [
              "character(0)"
            ]
          },
          "metadata": {}
        }
      ]
    },
    {
      "cell_type": "code",
      "source": [
        "varImpPlot(trainHD, sort = TRUE)"
      ],
      "metadata": {
        "colab": {
          "base_uri": "https://localhost:8080/",
          "height": 437
        },
        "id": "2LfXUrRw2twS",
        "outputId": "b3f7bddb-0705-465e-9b8b-e5800b5da1c3"
      },
      "execution_count": 22,
      "outputs": [
        {
          "output_type": "display_data",
          "data": {
            "text/plain": [
              "plot without title"
            ],
            "image/png": "[encoded data removed]"
          },
          "metadata": {
            "image/png": {
              "width": 420,
              "height": 420
            }
          }
        }
      ]
    },
    {
      "cell_type": "code",
      "source": [
        "#Evaluate predictions of test data\n",
        "predictions <- predict(trainHD, newdata = Xtest, type = \"response\") #give predict function the test data without labels\n",
        "table(predictions, ytest) #compare predicted labels to real labels\n",
        "\n",
        "accuracyTest = sum(predictions == ytest, na.rm = TRUE)/length(ytest)\n",
        "error = 1 - accuracyTest\n",
        "paste0(cat(\"The accuracy of the model on test data was:\", round(accuracyTest, 3) * 100, \"%\"))\n",
        "paste0(cat(\"The error of the model on test data was:\", round(error, 3) * 100, \"%\"))"
      ],
      "metadata": {
        "colab": {
          "base_uri": "https://localhost:8080/",
          "height": 121
        },
        "id": "q4PsZkNZfo2s",
        "outputId": "20d63836-4b89-412f-a32c-88401302ed7c"
      },
      "execution_count": 23,
      "outputs": [
        {
          "output_type": "display_data",
          "data": {
            "text/plain": [
              "           ytest\n",
              "predictions  0  1\n",
              "          0 26  4\n",
              "          1  3 11"
            ]
          },
          "metadata": {}
        },
        {
          "output_type": "stream",
          "name": "stdout",
          "text": [
            "The accuracy of the model on test data was: 84.1 %"
          ]
        },
        {
          "output_type": "display_data",
          "data": {
            "text/html": [],
            "text/markdown": "",
            "text/latex": "",
            "text/plain": [
              "character(0)"
            ]
          },
          "metadata": {}
        },
        {
          "output_type": "stream",
          "name": "stdout",
          "text": [
            "The error of the model on test data was: 15.9 %"
          ]
        },
        {
          "output_type": "display_data",
          "data": {
            "text/html": [],
            "text/markdown": "",
            "text/latex": "",
            "text/plain": [
              "character(0)"
            ]
          },
          "metadata": {}
        }
      ]
    },
    {
      "cell_type": "markdown",
      "source": [
        "# Conclusion\n",
        "The model works very well on the test data- the model has high accuracy.  From variable importance plots, we can conlude that `thal` and `Fluoroscopy` are important predictors of heart disease, given that they greatly improve accuracy and decrease error when included in decision trees.  `oldPeak` also had high on MDA and MDG relative to other variables.  Interestingly, `ChestPain` had high MDA and MDG when a model was trained on all data (chunk 6,) but had lower importance in the model trained with the training subset.  A larger dataset or higher `mtry` value could improve the model's consistency in evaluating importance.    "
      ],
      "metadata": {
        "id": "CERr4JwB5nVF"
      }
    }
  ]
}